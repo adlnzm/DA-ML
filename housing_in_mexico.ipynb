{
 "cells": [
  {
   "cell_type": "markdown",
   "id": "60a88b79",
   "metadata": {},
   "source": [
    "# Working with Lists "
   ]
  },
  {
   "cell_type": "markdown",
   "id": "5ce694b2",
   "metadata": {},
   "source": [
    "## Nested Lists"
   ]
  },
  {
   "cell_type": "code",
   "execution_count": 1,
   "id": "a892bfd4",
   "metadata": {},
   "outputs": [
    {
     "name": "stdout",
     "output_type": "stream",
     "text": [
      "The length of the data is:  5\n",
      "The type of the data is:  <class 'list'>\n"
     ]
    },
    {
     "data": {
      "text/plain": [
       "[[405650.988, 179, 4],\n",
       " [709893.32, 288, 6],\n",
       " [200932.123, 120, 3],\n",
       " [404521.342, 153, 4],\n",
       " [309421.21, 137, 3]]"
      ]
     },
     "execution_count": 1,
     "metadata": {},
     "output_type": "execute_result"
    }
   ],
   "source": [
    "listing_houses = [[405650.988, 179, 4],\n",
    "                  [709893.32, 288, 6],\n",
    "                  [200932.123, 120, 3],\n",
    "                  [404521.342, 153, 4],\n",
    "                  [309421.21, 137, 3]]\n",
    "\n",
    "# Finding the length of the data\n",
    "print('The length of the data is: ', len(listing_houses))\n",
    "\n",
    "# Finding the type of the data \n",
    "print('The type of the data is: ', type(listing_houses))\n",
    "\n",
    "listing_houses"
   ]
  },
  {
   "cell_type": "markdown",
   "id": "2b6723b6",
   "metadata": {},
   "source": [
    "### Accessing items"
   ]
  },
  {
   "cell_type": "code",
   "execution_count": 2,
   "id": "29bb9f80",
   "metadata": {},
   "outputs": [
    {
     "data": {
      "text/plain": [
       "[405650.988, 179, 4]"
      ]
     },
     "execution_count": 2,
     "metadata": {},
     "output_type": "execute_result"
    }
   ],
   "source": [
    "# Accessing a list of items from nested list\n",
    "listing_houses[0]"
   ]
  },
  {
   "cell_type": "code",
   "execution_count": 3,
   "id": "9249353d",
   "metadata": {},
   "outputs": [
    {
     "data": {
      "text/plain": [
       "120"
      ]
     },
     "execution_count": 3,
     "metadata": {},
     "output_type": "execute_result"
    }
   ],
   "source": [
    "# Accessing an item specifically from nested list\n",
    "listing_houses[2][1]"
   ]
  },
  {
   "cell_type": "markdown",
   "id": "d98437e5",
   "metadata": {},
   "source": [
    "### Appending a new List "
   ]
  },
  {
   "cell_type": "code",
   "execution_count": 4,
   "id": "fa300f77",
   "metadata": {},
   "outputs": [
    {
     "name": "stdout",
     "output_type": "stream",
     "text": [
      "The length of the data is:  3\n",
      "[405650.988, 179, 4, 2266.2066368715086]\n",
      "The length of the data is now:  4\n"
     ]
    }
   ],
   "source": [
    "house_0 = listing_houses[0]\n",
    "\n",
    "#Find the length of the data prior\n",
    "print('The length of the data is: ', len(house_0))\n",
    "\n",
    "price_per_m2 = house_0[0] / house_0[1]\n",
    "house_0.append(price_per_m2)\n",
    "\n",
    "print(house_0)\n",
    "\n",
    "# Find the length of the data now\n",
    "print('The length of the data is now: ', len(house_0))"
   ]
  },
  {
   "cell_type": "markdown",
   "id": "ffbb0afa",
   "metadata": {},
   "source": [
    "# Working with Dictionary"
   ]
  },
  {
   "cell_type": "markdown",
   "id": "6815e747",
   "metadata": {},
   "source": [
    "## Row-wise"
   ]
  },
  {
   "cell_type": "code",
   "execution_count": 5,
   "id": "cceb459b",
   "metadata": {},
   "outputs": [
    {
     "name": "stdout",
     "output_type": "stream",
     "text": [
      "The type of the data is:  <class 'list'>\n",
      "The length of the data is:  5\n"
     ]
    },
    {
     "data": {
      "text/plain": [
       "[{'price_usd': 405650.988, 'area_m2': 179, 'rooms': 4},\n",
       " {'price_usd': 709893.32, 'area_m2': 288, 'rooms': 6},\n",
       " {'price_usd': 200932.123, 'area_m2': 120, 'rooms': 3},\n",
       " {'price_usd': 404521.342, 'area_m2': 153, 'rooms': 4},\n",
       " {'price_usd': 309421.21, 'area_m2': 137, 'rooms': 3}]"
      ]
     },
     "execution_count": 5,
     "metadata": {},
     "output_type": "execute_result"
    }
   ],
   "source": [
    "# Working with dictionaries rowwise\n",
    "housing_dict_rowwise = [{'price_usd': 405650.988,\n",
    "                         'area_m2': 179,\n",
    "                         'rooms': 4},\n",
    "                        {'price_usd': 709893.32,\n",
    "                         'area_m2': 288,\n",
    "                         'rooms': 6},\n",
    "                        {'price_usd': 200932.123,\n",
    "                         'area_m2': 120,\n",
    "                         'rooms': 3},\n",
    "                        {'price_usd': 404521.342,\n",
    "                         'area_m2': 153,\n",
    "                         'rooms': 4},\n",
    "                        {'price_usd': 309421.21,\n",
    "                         'area_m2': 137,\n",
    "                         'rooms': 3},]\n",
    "\n",
    "# Finding the type of the data\n",
    "print('The type of the data is: ', type(housing_dict_rowwise))\n",
    "\n",
    "# Finding the length of the data\n",
    "print('The length of the data is: ', len(housing_dict_rowwise))\n",
    "\n",
    "housing_dict_rowwise"
   ]
  },
  {
   "cell_type": "markdown",
   "id": "7778da83",
   "metadata": {},
   "source": [
    "### Accessing values in row-wise Dictionary"
   ]
  },
  {
   "cell_type": "code",
   "execution_count": 6,
   "id": "91cff36c",
   "metadata": {},
   "outputs": [
    {
     "data": {
      "text/plain": [
       "{'price_usd': 709893.32, 'area_m2': 288, 'rooms': 6}"
      ]
     },
     "execution_count": 6,
     "metadata": {},
     "output_type": "execute_result"
    }
   ],
   "source": [
    "# Accessing key-value pairs from second dictionary\n",
    "housing_dict_rowwise[1]"
   ]
  },
  {
   "cell_type": "code",
   "execution_count": 7,
   "id": "927d5f06",
   "metadata": {},
   "outputs": [
    {
     "data": {
      "text/plain": [
       "153"
      ]
     },
     "execution_count": 7,
     "metadata": {},
     "output_type": "execute_result"
    }
   ],
   "source": [
    "# Accessing key-value pairs specifically from listed dictionaries\n",
    "housing_dict_rowwise[3]['area_m2']"
   ]
  },
  {
   "cell_type": "code",
   "execution_count": 8,
   "id": "6f19e7fb",
   "metadata": {},
   "outputs": [
    {
     "name": "stdout",
     "output_type": "stream",
     "text": [
      "405650.988\n",
      "709893.32\n",
      "200932.123\n",
      "404521.342\n",
      "309421.21\n"
     ]
    }
   ],
   "source": [
    "# Accessing values of key 'price_usd' from every given dictionary\n",
    "for i in housing_dict_rowwise:\n",
    "    print(i['price_usd'])"
   ]
  },
  {
   "cell_type": "markdown",
   "id": "dfb2fd92",
   "metadata": {},
   "source": [
    "### Append a new Key-Value pair into Dictionary"
   ]
  },
  {
   "cell_type": "code",
   "execution_count": 9,
   "id": "f39aa489",
   "metadata": {},
   "outputs": [
    {
     "name": "stdout",
     "output_type": "stream",
     "text": [
      "The length of the dictionary is:  5\n"
     ]
    },
    {
     "data": {
      "text/plain": [
       "[{'price_usd': 405650.988,\n",
       "  'area_m2': 179,\n",
       "  'rooms': 4,\n",
       "  'price_per_m2': 2266.2066368715086},\n",
       " {'price_usd': 709893.32,\n",
       "  'area_m2': 288,\n",
       "  'rooms': 6,\n",
       "  'price_per_m2': 2464.9073611111107},\n",
       " {'price_usd': 200932.123,\n",
       "  'area_m2': 120,\n",
       "  'rooms': 3,\n",
       "  'price_per_m2': 1674.4343583333332},\n",
       " {'price_usd': 404521.342,\n",
       "  'area_m2': 153,\n",
       "  'rooms': 4,\n",
       "  'price_per_m2': 2643.930339869281},\n",
       " {'price_usd': 309421.21,\n",
       "  'area_m2': 137,\n",
       "  'rooms': 3,\n",
       "  'price_per_m2': 2258.5489781021897}]"
      ]
     },
     "execution_count": 9,
     "metadata": {},
     "output_type": "execute_result"
    }
   ],
   "source": [
    "# Appending 'price_per_m2' and their values to the Dictionary by operating between 'price_usd' and 'area_m2'\n",
    "for i in housing_dict_rowwise:\n",
    "    i['price_per_m2'] = i['price_usd'] / i['area_m2']\n",
    "\n",
    "# Finding length of the dictionary \n",
    "print('The length of the dictionary is: ', len(housing_dict_rowwise))\n",
    "\n",
    "housing_dict_rowwise"
   ]
  },
  {
   "cell_type": "markdown",
   "id": "f3021426",
   "metadata": {},
   "source": [
    "## Column-wise "
   ]
  },
  {
   "cell_type": "code",
   "execution_count": 10,
   "id": "a097e570",
   "metadata": {},
   "outputs": [
    {
     "name": "stdout",
     "output_type": "stream",
     "text": [
      "housing_dict_columnwise is of type:  <class 'dict'>\n",
      "hosuing_dict_columnwise is of length:  3\n"
     ]
    },
    {
     "data": {
      "text/plain": [
       "{'price_usd': [405650.988, 709893.32, 200932.123, 404521.342, 309421.21],\n",
       " 'area_m2': [179, 288, 120, 153, 137],\n",
       " 'rooms': [4, 6, 3, 4, 3]}"
      ]
     },
     "execution_count": 10,
     "metadata": {},
     "output_type": "execute_result"
    }
   ],
   "source": [
    "# Working with dictionaries columnwise\n",
    "housing_dict_columnwise = {'price_usd': [405650.988, 709893.32, 200932.123, 404521.342, 309421.21], \n",
    "                'area_m2': [179, 288, 120, 153, 137], \n",
    "                'rooms': [4, 6, 3, 4, 3]}\n",
    "\n",
    "# Finding the type of the data\n",
    "print('housing_dict_columnwise is of type: ', type(housing_dict_columnwise))\n",
    "\n",
    "# Finding the length of the data\n",
    "print('hosuing_dict_columnwise is of length: ', len(housing_dict_columnwise))\n",
    "\n",
    "housing_dict_columnwise"
   ]
  },
  {
   "cell_type": "markdown",
   "id": "f06ba9fd",
   "metadata": {},
   "source": [
    "### Accessing values in column-wise Dictionary"
   ]
  },
  {
   "cell_type": "code",
   "execution_count": 11,
   "id": "54524d9d",
   "metadata": {},
   "outputs": [
    {
     "data": {
      "text/plain": [
       "[405650.988, 709893.32, 200932.123, 404521.342, 309421.21]"
      ]
     },
     "execution_count": 11,
     "metadata": {},
     "output_type": "execute_result"
    }
   ],
   "source": [
    "# Accessing the values of key 'price_usd' \n",
    "housing_dict_columnwise['price_usd']"
   ]
  },
  {
   "cell_type": "code",
   "execution_count": 12,
   "id": "d0d9dfa4",
   "metadata": {},
   "outputs": [
    {
     "data": {
      "text/plain": [
       "[179, 288, 120, 153, 137]"
      ]
     },
     "execution_count": 12,
     "metadata": {},
     "output_type": "execute_result"
    }
   ],
   "source": [
    "# Accessing the values of key 'area_m2'\n",
    "housing_dict_columnwise['area_m2']"
   ]
  },
  {
   "cell_type": "code",
   "execution_count": 13,
   "id": "3ce4e852",
   "metadata": {},
   "outputs": [
    {
     "data": {
      "text/plain": [
       "[4, 6, 3, 4, 3]"
      ]
     },
     "execution_count": 13,
     "metadata": {},
     "output_type": "execute_result"
    }
   ],
   "source": [
    "# Accessing the values of key 'rooms'\n",
    "housing_dict_columnwise['rooms']"
   ]
  },
  {
   "cell_type": "markdown",
   "id": "bc2b45cf",
   "metadata": {},
   "source": [
    "### Operating on the dictionary "
   ]
  },
  {
   "cell_type": "code",
   "execution_count": 14,
   "id": "caa82df6",
   "metadata": {},
   "outputs": [
    {
     "data": {
      "text/plain": [
       "406083.79659999994"
      ]
     },
     "execution_count": 14,
     "metadata": {},
     "output_type": "execute_result"
    }
   ],
   "source": [
    "mean_pricing = sum(housing_dict_columnwise['price_usd']) / len(housing_dict_columnwise['price_usd'])\n",
    "\n",
    "mean_pricing"
   ]
  },
  {
   "cell_type": "markdown",
   "id": "f502352b",
   "metadata": {},
   "source": [
    "### Append a new Key-Value pair into Dictionary  "
   ]
  },
  {
   "cell_type": "code",
   "execution_count": 15,
   "id": "49a29c25",
   "metadata": {},
   "outputs": [
    {
     "name": "stdout",
     "output_type": "stream",
     "text": [
      "The length of the data is:  4\n"
     ]
    },
    {
     "data": {
      "text/plain": [
       "{'price_usd': [405650.988, 709893.32, 200932.123, 404521.342, 309421.21],\n",
       " 'area_m2': [179, 288, 120, 153, 137],\n",
       " 'rooms': [4, 6, 3, 4, 3],\n",
       " 'price_per_m2': [2266.2066368715086,\n",
       "  2464.9073611111107,\n",
       "  1674.4343583333332,\n",
       "  2643.930339869281,\n",
       "  2258.5489781021897]}"
      ]
     },
     "execution_count": 15,
     "metadata": {},
     "output_type": "execute_result"
    }
   ],
   "source": [
    "price = housing_dict_columnwise['price_usd']\n",
    "area = housing_dict_columnwise['area_m2']\n",
    "zip(price, area)\n",
    "\n",
    "price_per_area = []\n",
    "for p, a in zip(price, area):\n",
    "    price_per_m2 = p / a\n",
    "    price_per_area.append(price_per_m2)\n",
    "housing_dict_columnwise['price_per_m2'] = price_per_area\n",
    "\n",
    "# Finding the length of the data \n",
    "print('The length of the data is: ', len(housing_dict_columnwise))\n",
    "\n",
    "housing_dict_columnwise"
   ]
  },
  {
   "cell_type": "markdown",
   "id": "a7ebd253",
   "metadata": {},
   "source": [
    "# Dataframe using Pandas "
   ]
  },
  {
   "cell_type": "code",
   "execution_count": 16,
   "id": "5a062c5a",
   "metadata": {},
   "outputs": [
    {
     "data": {
      "text/html": [
       "<div>\n",
       "<style scoped>\n",
       "    .dataframe tbody tr th:only-of-type {\n",
       "        vertical-align: middle;\n",
       "    }\n",
       "\n",
       "    .dataframe tbody tr th {\n",
       "        vertical-align: top;\n",
       "    }\n",
       "\n",
       "    .dataframe thead th {\n",
       "        text-align: right;\n",
       "    }\n",
       "</style>\n",
       "<table border=\"1\" class=\"dataframe\">\n",
       "  <thead>\n",
       "    <tr style=\"text-align: right;\">\n",
       "      <th></th>\n",
       "      <th>price_usd</th>\n",
       "      <th>area_m2</th>\n",
       "      <th>rooms</th>\n",
       "      <th>price_per_m2</th>\n",
       "    </tr>\n",
       "  </thead>\n",
       "  <tbody>\n",
       "    <tr>\n",
       "      <th>0</th>\n",
       "      <td>405650.988</td>\n",
       "      <td>179</td>\n",
       "      <td>4</td>\n",
       "      <td>2266.206637</td>\n",
       "    </tr>\n",
       "    <tr>\n",
       "      <th>1</th>\n",
       "      <td>709893.320</td>\n",
       "      <td>288</td>\n",
       "      <td>6</td>\n",
       "      <td>2464.907361</td>\n",
       "    </tr>\n",
       "    <tr>\n",
       "      <th>2</th>\n",
       "      <td>200932.123</td>\n",
       "      <td>120</td>\n",
       "      <td>3</td>\n",
       "      <td>1674.434358</td>\n",
       "    </tr>\n",
       "    <tr>\n",
       "      <th>3</th>\n",
       "      <td>404521.342</td>\n",
       "      <td>153</td>\n",
       "      <td>4</td>\n",
       "      <td>2643.930340</td>\n",
       "    </tr>\n",
       "    <tr>\n",
       "      <th>4</th>\n",
       "      <td>309421.210</td>\n",
       "      <td>137</td>\n",
       "      <td>3</td>\n",
       "      <td>2258.548978</td>\n",
       "    </tr>\n",
       "  </tbody>\n",
       "</table>\n",
       "</div>"
      ],
      "text/plain": [
       "    price_usd  area_m2  rooms  price_per_m2\n",
       "0  405650.988      179      4   2266.206637\n",
       "1  709893.320      288      6   2464.907361\n",
       "2  200932.123      120      3   1674.434358\n",
       "3  404521.342      153      4   2643.930340\n",
       "4  309421.210      137      3   2258.548978"
      ]
     },
     "execution_count": 16,
     "metadata": {},
     "output_type": "execute_result"
    }
   ],
   "source": [
    "# Creating a dataframe using Pandas for housing_dict_columnwise dictionary\n",
    "import pandas as pd\n",
    "df_housing = pd.DataFrame(housing_dict_columnwise)\n",
    "\n",
    "df_housing"
   ]
  }
 ],
 "metadata": {
  "kernelspec": {
   "display_name": "Python 3 (ipykernel)",
   "language": "python",
   "name": "python3"
  },
  "language_info": {
   "codemirror_mode": {
    "name": "ipython",
    "version": 3
   },
   "file_extension": ".py",
   "mimetype": "text/x-python",
   "name": "python",
   "nbconvert_exporter": "python",
   "pygments_lexer": "ipython3",
   "version": "3.11.5"
  }
 },
 "nbformat": 4,
 "nbformat_minor": 5
}
